{
 "cells": [
  {
   "cell_type": "code",
   "execution_count": 2,
   "metadata": {},
   "outputs": [],
   "source": [
    "import math \n",
    "import numpy as np \n",
    "import matplotlib.pyplot as plt\n",
    "%matplotlib inline"
   ]
  },
  {
   "cell_type": "markdown",
   "metadata": {},
   "source": [
    "Complexity:\n",
    "\n",
    "    i. Time \n",
    "    ii. Space"
   ]
  },
  {
   "cell_type": "code",
   "execution_count": 3,
   "metadata": {},
   "outputs": [],
   "source": [
    "def reluActivationFunction(number):\n",
    "    numberStore = []\n",
    "    for i in number:\n",
    "        initialValue = 0 \n",
    "        if i > 0:\n",
    "            initialValue = i\n",
    "        numberStore.append(initialValue)\n",
    "    return numberStore"
   ]
  },
  {
   "cell_type": "code",
   "execution_count": 4,
   "metadata": {},
   "outputs": [],
   "source": [
    "randomNumber = np.arange(-20.0, 20.0, 0.3) # continiues value\n"
   ]
  },
  {
   "cell_type": "code",
   "execution_count": 8,
   "metadata": {},
   "outputs": [
    {
     "data": {
      "text/plain": [
       "array([-20. , -19.7, -19.4, -19.1, -18.8, -18.5, -18.2, -17.9, -17.6,\n",
       "       -17.3, -17. , -16.7, -16.4, -16.1, -15.8, -15.5, -15.2, -14.9,\n",
       "       -14.6, -14.3, -14. , -13.7, -13.4, -13.1, -12.8, -12.5, -12.2,\n",
       "       -11.9, -11.6, -11.3, -11. , -10.7, -10.4, -10.1,  -9.8,  -9.5,\n",
       "        -9.2,  -8.9,  -8.6,  -8.3,  -8. ,  -7.7,  -7.4,  -7.1,  -6.8,\n",
       "        -6.5,  -6.2,  -5.9,  -5.6,  -5.3,  -5. ,  -4.7,  -4.4,  -4.1,\n",
       "        -3.8,  -3.5,  -3.2,  -2.9,  -2.6,  -2.3,  -2. ,  -1.7,  -1.4,\n",
       "        -1.1,  -0.8,  -0.5,  -0.2,   0.1,   0.4,   0.7,   1. ,   1.3,\n",
       "         1.6,   1.9,   2.2,   2.5,   2.8,   3.1,   3.4,   3.7,   4. ,\n",
       "         4.3,   4.6,   4.9,   5.2,   5.5,   5.8,   6.1,   6.4,   6.7,\n",
       "         7. ,   7.3,   7.6,   7.9,   8.2,   8.5,   8.8,   9.1,   9.4,\n",
       "         9.7,  10. ,  10.3,  10.6,  10.9,  11.2,  11.5,  11.8,  12.1,\n",
       "        12.4,  12.7,  13. ,  13.3,  13.6,  13.9,  14.2,  14.5,  14.8,\n",
       "        15.1,  15.4,  15.7,  16. ,  16.3,  16.6,  16.9,  17.2,  17.5,\n",
       "        17.8,  18.1,  18.4,  18.7,  19. ,  19.3,  19.6,  19.9])"
      ]
     },
     "execution_count": 8,
     "metadata": {},
     "output_type": "execute_result"
    }
   ],
   "source": [
    "randomNumber"
   ]
  },
  {
   "cell_type": "code",
   "execution_count": 10,
   "metadata": {},
   "outputs": [
    {
     "data": {
      "text/plain": [
       "[0,\n",
       " 0,\n",
       " 0,\n",
       " 0,\n",
       " 0,\n",
       " 0,\n",
       " 0,\n",
       " 0,\n",
       " 0,\n",
       " 0,\n",
       " 0,\n",
       " 0,\n",
       " 0,\n",
       " 0,\n",
       " 0,\n",
       " 0,\n",
       " 0,\n",
       " 0,\n",
       " 0,\n",
       " 0,\n",
       " 0,\n",
       " 0,\n",
       " 0,\n",
       " 0,\n",
       " 0,\n",
       " 0,\n",
       " 0,\n",
       " 0,\n",
       " 0,\n",
       " 0,\n",
       " 0,\n",
       " 0,\n",
       " 0,\n",
       " 0,\n",
       " 0,\n",
       " 0,\n",
       " 0,\n",
       " 0,\n",
       " 0,\n",
       " 0,\n",
       " 0,\n",
       " 0,\n",
       " 0,\n",
       " 0,\n",
       " 0,\n",
       " 0,\n",
       " 0,\n",
       " 0,\n",
       " 0,\n",
       " 0,\n",
       " 0,\n",
       " 0,\n",
       " 0,\n",
       " 0,\n",
       " 0,\n",
       " 0,\n",
       " 0,\n",
       " 0,\n",
       " 0,\n",
       " 0,\n",
       " 0,\n",
       " 0,\n",
       " 0,\n",
       " 0,\n",
       " 0,\n",
       " 0,\n",
       " 0,\n",
       " 0.1000000000000476,\n",
       " 0.4000000000000483,\n",
       " 0.700000000000049,\n",
       " 1.0000000000000497,\n",
       " 1.3000000000000504,\n",
       " 1.6000000000000512,\n",
       " 1.9000000000000519,\n",
       " 2.2000000000000526,\n",
       " 2.5000000000000533,\n",
       " 2.800000000000054,\n",
       " 3.1000000000000547,\n",
       " 3.4000000000000554,\n",
       " 3.700000000000056,\n",
       " 4.000000000000057,\n",
       " 4.3000000000000576,\n",
       " 4.600000000000058,\n",
       " 4.900000000000059,\n",
       " 5.20000000000006,\n",
       " 5.50000000000006,\n",
       " 5.800000000000061,\n",
       " 6.100000000000062,\n",
       " 6.4000000000000625,\n",
       " 6.700000000000063,\n",
       " 7.000000000000064,\n",
       " 7.300000000000065,\n",
       " 7.600000000000065,\n",
       " 7.900000000000066,\n",
       " 8.200000000000067,\n",
       " 8.500000000000068,\n",
       " 8.800000000000068,\n",
       " 9.100000000000069,\n",
       " 9.40000000000007,\n",
       " 9.70000000000007,\n",
       " 10.000000000000071,\n",
       " 10.300000000000072,\n",
       " 10.600000000000072,\n",
       " 10.900000000000073,\n",
       " 11.200000000000074,\n",
       " 11.500000000000075,\n",
       " 11.800000000000075,\n",
       " 12.10000000000008,\n",
       " 12.400000000000077,\n",
       " 12.700000000000074,\n",
       " 13.000000000000078,\n",
       " 13.300000000000082,\n",
       " 13.60000000000008,\n",
       " 13.900000000000077,\n",
       " 14.200000000000081,\n",
       " 14.500000000000085,\n",
       " 14.800000000000082,\n",
       " 15.10000000000008,\n",
       " 15.400000000000084,\n",
       " 15.700000000000088,\n",
       " 16.000000000000085,\n",
       " 16.300000000000082,\n",
       " 16.600000000000087,\n",
       " 16.90000000000009,\n",
       " 17.200000000000088,\n",
       " 17.500000000000085,\n",
       " 17.80000000000009,\n",
       " 18.100000000000094,\n",
       " 18.40000000000009,\n",
       " 18.700000000000088,\n",
       " 19.000000000000092,\n",
       " 19.300000000000097,\n",
       " 19.600000000000094,\n",
       " 19.90000000000009]"
      ]
     },
     "execution_count": 10,
     "metadata": {},
     "output_type": "execute_result"
    }
   ],
   "source": [
    "reluLine = reluActivationFunction(randomNumber)\n",
    "reluLine\n"
   ]
  },
  {
   "cell_type": "code",
   "execution_count": 11,
   "metadata": {},
   "outputs": [
    {
     "data": {
      "image/png": "[encoded data removed]",
      "text/plain": [
       "<Figure size 432x288 with 1 Axes>"
      ]
     },
     "metadata": {
      "needs_background": "light"
     },
     "output_type": "display_data"
    }
   ],
   "source": [
    "plt.plot(randomNumber, reluLine)\n",
    "\n",
    "# axis\n",
    "ax =plt.gca()\n",
    "plt.show()"
   ]
  },
  {
   "cell_type": "code",
   "execution_count": null,
   "metadata": {},
   "outputs": [],
   "source": []
  }
 ],
 "metadata": {
  "kernelspec": {
   "display_name": "Python 3",
   "language": "python",
   "name": "python3"
  },
  "language_info": {
   "codemirror_mode": {
    "name": "ipython",
    "version": 3
   },
   "file_extension": ".py",
   "mimetype": "text/x-python",
   "name": "python",
   "nbconvert_exporter": "python",
   "pygments_lexer": "ipython3",
   "version": "3.8.5"
  }
 },
 "nbformat": 4,
 "nbformat_minor": 4
}
