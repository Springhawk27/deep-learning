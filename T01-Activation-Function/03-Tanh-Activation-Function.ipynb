{
 "cells": [
  {
   "cell_type": "code",
   "execution_count": 1,
   "metadata": {},
   "outputs": [],
   "source": [
    "import math \n",
    "import numpy as np # Linear algebra\n",
    "import matplotlib.pyplot as plt\n",
    "%matplotlib inline"
   ]
  },
  {
   "cell_type": "code",
   "execution_count": 2,
   "metadata": {},
   "outputs": [],
   "source": [
    "def tanhActivationFunction(number):\n",
    "    tanhvalue = []\n",
    "    for i in number:\n",
    "        tanhvalue.append(math.tanh(i))\n",
    "    return tanhvalue"
   ]
  },
  {
   "cell_type": "code",
   "execution_count": 3,
   "metadata": {},
   "outputs": [
    {
     "data": {
      "text/plain": [
       "array([-2.00000000e+01, -1.96000000e+01, -1.92000000e+01, -1.88000000e+01,\n",
       "       -1.84000000e+01, -1.80000000e+01, -1.76000000e+01, -1.72000000e+01,\n",
       "       -1.68000000e+01, -1.64000000e+01, -1.60000000e+01, -1.56000000e+01,\n",
       "       -1.52000000e+01, -1.48000000e+01, -1.44000000e+01, -1.40000000e+01,\n",
       "       -1.36000000e+01, -1.32000000e+01, -1.28000000e+01, -1.24000000e+01,\n",
       "       -1.20000000e+01, -1.16000000e+01, -1.12000000e+01, -1.08000000e+01,\n",
       "       -1.04000000e+01, -1.00000000e+01, -9.60000000e+00, -9.20000000e+00,\n",
       "       -8.80000000e+00, -8.40000000e+00, -8.00000000e+00, -7.60000000e+00,\n",
       "       -7.20000000e+00, -6.80000000e+00, -6.40000000e+00, -6.00000000e+00,\n",
       "       -5.60000000e+00, -5.20000000e+00, -4.80000000e+00, -4.40000000e+00,\n",
       "       -4.00000000e+00, -3.60000000e+00, -3.20000000e+00, -2.80000000e+00,\n",
       "       -2.40000000e+00, -2.00000000e+00, -1.60000000e+00, -1.20000000e+00,\n",
       "       -8.00000000e-01, -4.00000000e-01, -7.10542736e-14,  4.00000000e-01,\n",
       "        8.00000000e-01,  1.20000000e+00,  1.60000000e+00,  2.00000000e+00,\n",
       "        2.40000000e+00,  2.80000000e+00,  3.20000000e+00,  3.60000000e+00,\n",
       "        4.00000000e+00,  4.40000000e+00,  4.80000000e+00,  5.20000000e+00,\n",
       "        5.60000000e+00,  6.00000000e+00,  6.40000000e+00,  6.80000000e+00,\n",
       "        7.20000000e+00,  7.60000000e+00,  8.00000000e+00,  8.40000000e+00,\n",
       "        8.80000000e+00,  9.20000000e+00,  9.60000000e+00,  1.00000000e+01,\n",
       "        1.04000000e+01,  1.08000000e+01,  1.12000000e+01,  1.16000000e+01,\n",
       "        1.20000000e+01,  1.24000000e+01,  1.28000000e+01,  1.32000000e+01,\n",
       "        1.36000000e+01,  1.40000000e+01,  1.44000000e+01,  1.48000000e+01,\n",
       "        1.52000000e+01,  1.56000000e+01,  1.60000000e+01,  1.64000000e+01,\n",
       "        1.68000000e+01,  1.72000000e+01,  1.76000000e+01,  1.80000000e+01,\n",
       "        1.84000000e+01,  1.88000000e+01,  1.92000000e+01,  1.96000000e+01])"
      ]
     },
     "execution_count": 3,
     "metadata": {},
     "output_type": "execute_result"
    }
   ],
   "source": [
    "randomNumber = np.arange(-20.0, 20.0, 0.4) # continiues value\n",
    "randomNumber"
   ]
  },
  {
   "cell_type": "code",
   "execution_count": 4,
   "metadata": {},
   "outputs": [
    {
     "data": {
      "text/plain": [
       "[-1.0,\n",
       " -1.0,\n",
       " -1.0,\n",
       " -0.9999999999999999,\n",
       " -0.9999999999999998,\n",
       " -0.9999999999999996,\n",
       " -0.999999999999999,\n",
       " -0.9999999999999977,\n",
       " -0.9999999999999949,\n",
       " -0.9999999999999886,\n",
       " -0.9999999999999747,\n",
       " -0.9999999999999436,\n",
       " -0.9999999999998745,\n",
       " -0.9999999999997208,\n",
       " -0.9999999999993786,\n",
       " -0.9999999999986171,\n",
       " -0.9999999999969224,\n",
       " -0.9999999999931506,\n",
       " -0.9999999999847563,\n",
       " -0.9999999999660745,\n",
       " -0.9999999999244973,\n",
       " -0.9999999998319656,\n",
       " -0.9999999996260327,\n",
       " -0.9999999991677205,\n",
       " -0.999999998147728,\n",
       " -0.9999999958776927,\n",
       " -0.9999999908256365,\n",
       " -0.9999999795820788,\n",
       " -0.9999999545590812,\n",
       " -0.9999998988693781,\n",
       " -0.9999997749296758,\n",
       " -0.999999499096851,\n",
       " -0.9999988852198828,\n",
       " -0.9999975190129178,\n",
       " -0.9999944784700996,\n",
       " -0.9999877116507956,\n",
       " -0.9999726519818308,\n",
       " -0.9999391368861988,\n",
       " -0.9998645517007605,\n",
       " -0.9996985792838805,\n",
       " -0.9993292997390671,\n",
       " -0.9985079423323268,\n",
       " -0.9966823978396515,\n",
       " -0.9926315202011289,\n",
       " -0.9836748576936822,\n",
       " -0.9640275800758215,\n",
       " -0.9216685544064811,\n",
       " -0.8336546070121756,\n",
       " -0.6640367702678871,\n",
       " -0.37994896225528446,\n",
       " -7.105427357601002e-14,\n",
       " 0.3799489622551629,\n",
       " 0.6640367702678076,\n",
       " 0.8336546070121322,\n",
       " 0.9216685544064598,\n",
       " 0.9640275800758114,\n",
       " 0.9836748576936777,\n",
       " 0.9926315202011269,\n",
       " 0.9966823978396506,\n",
       " 0.9985079423323263,\n",
       " 0.9993292997390669,\n",
       " 0.9996985792838804,\n",
       " 0.9998645517007604,\n",
       " 0.9999391368861988,\n",
       " 0.9999726519818308,\n",
       " 0.9999877116507956,\n",
       " 0.9999944784700996,\n",
       " 0.9999975190129178,\n",
       " 0.9999988852198828,\n",
       " 0.999999499096851,\n",
       " 0.9999997749296758,\n",
       " 0.9999998988693781,\n",
       " 0.9999999545590812,\n",
       " 0.9999999795820788,\n",
       " 0.9999999908256365,\n",
       " 0.9999999958776927,\n",
       " 0.999999998147728,\n",
       " 0.9999999991677205,\n",
       " 0.9999999996260327,\n",
       " 0.9999999998319656,\n",
       " 0.9999999999244973,\n",
       " 0.9999999999660745,\n",
       " 0.9999999999847563,\n",
       " 0.9999999999931506,\n",
       " 0.9999999999969224,\n",
       " 0.9999999999986171,\n",
       " 0.9999999999993786,\n",
       " 0.9999999999997208,\n",
       " 0.9999999999998745,\n",
       " 0.9999999999999436,\n",
       " 0.9999999999999747,\n",
       " 0.9999999999999886,\n",
       " 0.9999999999999949,\n",
       " 0.9999999999999977,\n",
       " 0.999999999999999,\n",
       " 0.9999999999999996,\n",
       " 0.9999999999999998,\n",
       " 0.9999999999999999,\n",
       " 1.0,\n",
       " 1.0]"
      ]
     },
     "execution_count": 4,
     "metadata": {},
     "output_type": "execute_result"
    }
   ],
   "source": [
    "tanhPlot = tanhActivationFunction(randomNumber)\n",
    "tanhPlot"
   ]
  },
  {
   "cell_type": "code",
   "execution_count": 5,
   "metadata": {},
   "outputs": [
    {
     "data": {
      "image/png": "[encoded data removed]",
      "text/plain": [
       "<Figure size 432x288 with 1 Axes>"
      ]
     },
     "metadata": {
      "needs_background": "light"
     },
     "output_type": "display_data"
    }
   ],
   "source": [
    "plt.plot(randomNumber, tanhPlot)\n",
    "\n",
    "# axis\n",
    "ax =plt.gca()\n",
    "plt.show()"
   ]
  },
  {
   "cell_type": "code",
   "execution_count": 6,
   "metadata": {},
   "outputs": [],
   "source": [
    "def tanhActivationFunction2(number):\n",
    "    tanhvalue = []\n",
    "    for i in number:\n",
    "        initialValue = 0\n",
    "        if i < 0:\n",
    "            initialValue = -1\n",
    "            tanhvalue.append(initialValue)\n",
    "        elif i> 0:\n",
    "            initialValue = 1\n",
    "            tanhvalue.append(initialValue)\n",
    "            \n",
    "    return tanhvalue"
   ]
  },
  {
   "cell_type": "code",
   "execution_count": 11,
   "metadata": {},
   "outputs": [
    {
     "data": {
      "image/png": "[encoded data removed]",
      "text/plain": [
       "<Figure size 432x288 with 1 Axes>"
      ]
     },
     "metadata": {
      "needs_background": "light"
     },
     "output_type": "display_data"
    }
   ],
   "source": [
    "randomNumber = np.arange(-20.0, 20.0, 0.4) # continiues value\n",
    "tanhPlot = tanhActivationFunction2(randomNumber)\n",
    "plt.plot(randomNumber, tanhPlot)\n",
    "\n",
    "# axis\n",
    "ax =plt.gca()\n",
    "plt.show()"
   ]
  },
  {
   "cell_type": "code",
   "execution_count": null,
   "metadata": {},
   "outputs": [],
   "source": []
  },
  {
   "cell_type": "code",
   "execution_count": null,
   "metadata": {},
   "outputs": [],
   "source": []
  }
 ],
 "metadata": {
  "kernelspec": {
   "display_name": "Python 3",
   "language": "python",
   "name": "python3"
  },
  "language_info": {
   "codemirror_mode": {
    "name": "ipython",
    "version": 3
   },
   "file_extension": ".py",
   "mimetype": "text/x-python",
   "name": "python",
   "nbconvert_exporter": "python",
   "pygments_lexer": "ipython3",
   "version": "3.8.5"
  }
 },
 "nbformat": 4,
 "nbformat_minor": 4
}
