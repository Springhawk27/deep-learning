{
 "cells": [
  {
   "cell_type": "code",
   "execution_count": 1,
   "metadata": {},
   "outputs": [],
   "source": [
    "import math \n",
    "import numpy as np # Linear algebra\n",
    "import matplotlib.pyplot as plt\n",
    "%matplotlib inline"
   ]
  },
  {
   "cell_type": "code",
   "execution_count": 19,
   "metadata": {},
   "outputs": [],
   "source": [
    "def softmaxActivationFunction(number):\n",
    "    exp_values = np.exp(number - np.max(number))\n",
    "    return exp_values / np.sum(exp_values)"
   ]
  },
  {
   "cell_type": "code",
   "execution_count": 20,
   "metadata": {},
   "outputs": [
    {
     "data": {
      "text/plain": [
       "array([-20. , -19.7, -19.4, -19.1, -18.8, -18.5, -18.2, -17.9, -17.6,\n",
       "       -17.3, -17. , -16.7, -16.4, -16.1, -15.8, -15.5, -15.2, -14.9,\n",
       "       -14.6, -14.3, -14. , -13.7, -13.4, -13.1, -12.8, -12.5, -12.2,\n",
       "       -11.9, -11.6, -11.3, -11. , -10.7, -10.4, -10.1,  -9.8,  -9.5,\n",
       "        -9.2,  -8.9,  -8.6,  -8.3,  -8. ,  -7.7,  -7.4,  -7.1,  -6.8,\n",
       "        -6.5,  -6.2,  -5.9,  -5.6,  -5.3,  -5. ,  -4.7,  -4.4,  -4.1,\n",
       "        -3.8,  -3.5,  -3.2,  -2.9,  -2.6,  -2.3,  -2. ,  -1.7,  -1.4,\n",
       "        -1.1,  -0.8,  -0.5,  -0.2,   0.1,   0.4,   0.7,   1. ,   1.3,\n",
       "         1.6,   1.9,   2.2,   2.5,   2.8,   3.1,   3.4,   3.7,   4. ,\n",
       "         4.3,   4.6,   4.9,   5.2,   5.5,   5.8,   6.1,   6.4,   6.7,\n",
       "         7. ,   7.3,   7.6,   7.9,   8.2,   8.5,   8.8,   9.1,   9.4,\n",
       "         9.7,  10. ,  10.3,  10.6,  10.9,  11.2,  11.5,  11.8,  12.1,\n",
       "        12.4,  12.7,  13. ,  13.3,  13.6,  13.9,  14.2,  14.5,  14.8,\n",
       "        15.1,  15.4,  15.7,  16. ,  16.3,  16.6,  16.9,  17.2,  17.5,\n",
       "        17.8,  18.1,  18.4,  18.7,  19. ,  19.3,  19.6,  19.9])"
      ]
     },
     "execution_count": 20,
     "metadata": {},
     "output_type": "execute_result"
    }
   ],
   "source": [
    "randomNumber = np.arange(-20.0, 20.0, 0.3)\n",
    "randomNumber"
   ]
  },
  {
   "cell_type": "code",
   "execution_count": 17,
   "metadata": {},
   "outputs": [
    {
     "data": {
      "text/plain": [
       "array([1.21689929e-18, 1.64264223e-18, 2.21733508e-18, 2.99308929e-18,\n",
       "       4.04024794e-18, 5.45376426e-18, 7.36181173e-18, 9.93740640e-18,\n",
       "       1.34140956e-17, 1.81071350e-17, 2.44420757e-17, 3.29933512e-17,\n",
       "       4.45363657e-17, 6.01178054e-17, 8.11505492e-17, 1.09541784e-16,\n",
       "       1.47865941e-16, 1.99598143e-16, 2.69429312e-16, 3.63691529e-16,\n",
       "       4.90932214e-16, 6.62689173e-16, 8.94536817e-16, 1.20749840e-15,\n",
       "       1.62995235e-15, 2.20020554e-15, 2.96996682e-15, 4.00903587e-15,\n",
       "       5.41163238e-15, 7.30493964e-15, 9.86063711e-15, 1.33104679e-14,\n",
       "       1.79672523e-14, 2.42532537e-14, 3.27384681e-14, 4.41923096e-14,\n",
       "       5.96533783e-14, 8.05236381e-14, 1.08695542e-13, 1.46723635e-13,\n",
       "       1.98056191e-13, 2.67347893e-13, 3.60881909e-13, 4.87139623e-13,\n",
       "       6.57569711e-13, 8.87626265e-13, 1.19817013e-12, 1.61736051e-12,\n",
       "       2.18320832e-12, 2.94702298e-12, 3.97806493e-12, 5.36982599e-12,\n",
       "       7.24850690e-12, 9.78446088e-12, 1.32076407e-11, 1.78284501e-11,\n",
       "       2.40658904e-11, 3.24855542e-11, 4.38509114e-11, 5.91925390e-11,\n",
       "       7.99015701e-11, 1.07855838e-10, 1.45590153e-10, 1.96526150e-10,\n",
       "       2.65282555e-10, 3.58093993e-10, 4.83376331e-10, 6.52489798e-10,\n",
       "       8.80769100e-10, 1.18891393e-09, 1.60486594e-09, 2.16634242e-09,\n",
       "       2.92425639e-09, 3.94733325e-09, 5.32834255e-09, 7.19251012e-09,\n",
       "       9.70887314e-09, 1.31056079e-08, 1.76907203e-08, 2.38799746e-08,\n",
       "       3.22345940e-08, 4.35121506e-08, 5.87352598e-08, 7.92843077e-08,\n",
       "       1.07022621e-07, 1.44465428e-07, 1.95007930e-07, 2.63233172e-07,\n",
       "       3.55327615e-07, 4.79642111e-07, 6.47449128e-07, 8.73964908e-07,\n",
       "       1.17972923e-06, 1.59246789e-06, 2.14960681e-06, 2.90166568e-06,\n",
       "       3.91683898e-06, 5.28717959e-06, 7.13694594e-06, 9.63386933e-06,\n",
       "       1.30043634e-05, 1.75540544e-05, 2.36954950e-05, 3.19855726e-05,\n",
       "       4.31760069e-05, 5.82815132e-05, 7.86718139e-05, 1.06195841e-04,\n",
       "       1.43349391e-04, 1.93501438e-04, 2.61199621e-04, 3.52582608e-04,\n",
       "       4.75936739e-04, 6.42447400e-04, 8.67213281e-04, 1.17061549e-03,\n",
       "       1.58016562e-03, 2.13300048e-03, 2.87924949e-03, 3.88658028e-03,\n",
       "       5.24633463e-03, 7.08181100e-03, 9.55944495e-03, 1.29039010e-02,\n",
       "       1.74184444e-02, 2.35124405e-02, 3.17384750e-02, 4.28424600e-02,\n",
       "       5.78312719e-02, 7.80640518e-02, 1.05375448e-01, 1.42241976e-01,\n",
       "       1.92006585e-01, 2.59181779e-01])"
      ]
     },
     "execution_count": 17,
     "metadata": {},
     "output_type": "execute_result"
    }
   ],
   "source": [
    "softmaxNumber = softmaxActivationFunction(randomNumber)\n",
    "softmaxNumber"
   ]
  },
  {
   "cell_type": "code",
   "execution_count": 21,
   "metadata": {},
   "outputs": [
    {
     "data": {
      "image/png": "[encoded data removed]",
      "text/plain": [
       "<Figure size 432x288 with 1 Axes>"
      ]
     },
     "metadata": {
      "needs_background": "light"
     },
     "output_type": "display_data"
    }
   ],
   "source": [
    "plt.plot(randomNumber, softmaxNumber)\n",
    "\n",
    "# axis\n",
    "ax =plt.gca()\n",
    "plt.show()"
   ]
  },
  {
   "cell_type": "code",
   "execution_count": null,
   "metadata": {},
   "outputs": [],
   "source": []
  }
 ],
 "metadata": {
  "kernelspec": {
   "display_name": "Python 3",
   "language": "python",
   "name": "python3"
  },
  "language_info": {
   "codemirror_mode": {
    "name": "ipython",
    "version": 3
   },
   "file_extension": ".py",
   "mimetype": "text/x-python",
   "name": "python",
   "nbconvert_exporter": "python",
   "pygments_lexer": "ipython3",
   "version": "3.8.5"
  }
 },
 "nbformat": 4,
 "nbformat_minor": 4
}
