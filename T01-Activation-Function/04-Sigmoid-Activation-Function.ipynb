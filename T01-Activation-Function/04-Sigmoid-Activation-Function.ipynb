{
 "cells": [
  {
   "cell_type": "code",
   "execution_count": 1,
   "metadata": {},
   "outputs": [],
   "source": [
    "import math \n",
    "import numpy as np # Linear algebra\n",
    "import matplotlib.pyplot as plt\n",
    "%matplotlib inline"
   ]
  },
  {
   "cell_type": "code",
   "execution_count": 2,
   "metadata": {},
   "outputs": [],
   "source": [
    "def sigmoidFunction(number):\n",
    "    #binary Activation Function\n",
    "    sigmidDataStore = []\n",
    "    for i in number:\n",
    "        each_result = 1 / (1 + math.exp(-i))\n",
    "        #result = 1 / (1 + np.exp(-1))\n",
    "        #1 / (1 + e^-x)\n",
    "        sigmidDataStore.append(each_result)\n",
    "    return sigmidDataStore"
   ]
  },
  {
   "cell_type": "code",
   "execution_count": 3,
   "metadata": {},
   "outputs": [
    {
     "data": {
      "text/plain": [
       "array([-20. , -19.7, -19.4, -19.1, -18.8, -18.5, -18.2, -17.9, -17.6,\n",
       "       -17.3, -17. , -16.7, -16.4, -16.1, -15.8, -15.5, -15.2, -14.9,\n",
       "       -14.6, -14.3, -14. , -13.7, -13.4, -13.1, -12.8, -12.5, -12.2,\n",
       "       -11.9, -11.6, -11.3, -11. , -10.7, -10.4, -10.1,  -9.8,  -9.5,\n",
       "        -9.2,  -8.9,  -8.6,  -8.3,  -8. ,  -7.7,  -7.4,  -7.1,  -6.8,\n",
       "        -6.5,  -6.2,  -5.9,  -5.6,  -5.3,  -5. ,  -4.7,  -4.4,  -4.1,\n",
       "        -3.8,  -3.5,  -3.2,  -2.9,  -2.6,  -2.3,  -2. ,  -1.7,  -1.4,\n",
       "        -1.1,  -0.8,  -0.5,  -0.2,   0.1,   0.4,   0.7,   1. ,   1.3,\n",
       "         1.6,   1.9,   2.2,   2.5,   2.8,   3.1,   3.4,   3.7,   4. ,\n",
       "         4.3,   4.6,   4.9,   5.2,   5.5,   5.8,   6.1,   6.4,   6.7,\n",
       "         7. ,   7.3,   7.6,   7.9,   8.2,   8.5,   8.8,   9.1,   9.4,\n",
       "         9.7,  10. ,  10.3,  10.6,  10.9,  11.2,  11.5,  11.8,  12.1,\n",
       "        12.4,  12.7,  13. ,  13.3,  13.6,  13.9,  14.2,  14.5,  14.8,\n",
       "        15.1,  15.4,  15.7,  16. ,  16.3,  16.6,  16.9,  17.2,  17.5,\n",
       "        17.8,  18.1,  18.4,  18.7,  19. ,  19.3,  19.6,  19.9])"
      ]
     },
     "execution_count": 3,
     "metadata": {},
     "output_type": "execute_result"
    }
   ],
   "source": [
    "randomNumber = np.arange(-20.0, 20.0, 0.3) # continiues value\n",
    "\n",
    "randomNumber"
   ]
  },
  {
   "cell_type": "code",
   "execution_count": 4,
   "metadata": {},
   "outputs": [
    {
     "data": {
      "text/plain": [
       "[2.0611536181902037e-09,\n",
       " 2.782266363274867e-09,\n",
       " 3.75566675183327e-09,\n",
       " 5.069619836621259e-09,\n",
       " 6.843270975387654e-09,\n",
       " 9.237449576640153e-09,\n",
       " 1.2469252630268769e-08,\n",
       " 1.6831730413430503e-08,\n",
       " 2.2720459411519428e-08,\n",
       " 3.0669412005022906e-08,\n",
       " 4.13993754739436e-08,\n",
       " 5.588331080223847e-08,\n",
       " 7.543457780806717e-08,\n",
       " 1.0182602656266022e-07,\n",
       " 1.3745075389942872e-07,\n",
       " 1.855391018368351e-07,\n",
       " 2.5045157450675796e-07,\n",
       " 3.380742340962515e-07,\n",
       " 4.56352428532771e-07,\n",
       " 6.160112466619716e-07,\n",
       " 8.315280276641438e-07,\n",
       " 1.1224451053499314e-06,\n",
       " 1.5151418164850712e-06,\n",
       " 2.04522644156377e-06,\n",
       " 2.7607649501930956e-06,\n",
       " 3.7266392841866274e-06,\n",
       " 5.0304303017552195e-06,\n",
       " 6.790358698095257e-06,\n",
       " 9.16600371985351e-06,\n",
       " 1.2372771174427837e-05,\n",
       " 1.6701421848095536e-05,\n",
       " 2.254442965044593e-05,\n",
       " 3.0431556900566034e-05,\n",
       " 4.1077867764764294e-05,\n",
       " 5.544852472279628e-05,\n",
       " 7.484622751061309e-05,\n",
       " 0.0001010291939077754,\n",
       " 0.00013637032707950066,\n",
       " 0.0001840719049634289,\n",
       " 0.00024845508183934137,\n",
       " 0.0003353501304664876,\n",
       " 0.00045262222324054824,\n",
       " 0.0006108793594344194,\n",
       " 0.0008244246863983203,\n",
       " 0.0011125360328603563,\n",
       " 0.0015011822567370396,\n",
       " 0.0020253203890499482,\n",
       " 0.002731960763011151,\n",
       " 0.0036842398994361134,\n",
       " 0.004966801650057133,\n",
       " 0.006692850924285091,\n",
       " 0.009013298652848148,\n",
       " 0.012128434984274681,\n",
       " 0.016302499371441542,\n",
       " 0.021881270936131295,\n",
       " 0.029312230751357433,\n",
       " 0.039165722796765855,\n",
       " 0.052153563078419736,\n",
       " 0.06913842034334947,\n",
       " 0.0911229610148596,\n",
       " 0.11920292202212202,\n",
       " 0.15446526508354036,\n",
       " 0.19781611144142525,\n",
       " 0.24973989440489078,\n",
       " 0.3100255188723973,\n",
       " 0.37754066879815634,\n",
       " 0.45016600268753365,\n",
       " 0.5249791874789518,\n",
       " 0.5986876601124637,\n",
       " 0.6681877721681769,\n",
       " 0.7310585786300146,\n",
       " 0.7858349830425672,\n",
       " 0.8320183851339317,\n",
       " 0.869891525637008,\n",
       " 0.9002495108803196,\n",
       " 0.9241418199787601,\n",
       " 0.9426758241011343,\n",
       " 0.9568927450589161,\n",
       " 0.9677045353015512,\n",
       " 0.9758729785823321,\n",
       " 0.9820137900379095,\n",
       " 0.986613082172336,\n",
       " 0.9900481981330962,\n",
       " 0.9926084586557186,\n",
       " 0.9945137011005499,\n",
       " 0.9959298622841041,\n",
       " 0.9969815836752919,\n",
       " 0.9977621514787238,\n",
       " 0.9983411989198258,\n",
       " 0.9987706013787226,\n",
       " 0.9990889488055994,\n",
       " 0.9993249172693672,\n",
       " 0.9994997988929205,\n",
       " 0.9996293938593738,\n",
       " 0.9997254218438988,\n",
       " 0.9997965730219448,\n",
       " 0.9998492896419403,\n",
       " 0.9998883466593704,\n",
       " 0.9999172827771484,\n",
       " 0.9999387202603833,\n",
       " 0.9999546021312976,\n",
       " 0.9999663680359613,\n",
       " 0.9999750846110607,\n",
       " 0.9999815421067044,\n",
       " 0.9999863259909154,\n",
       " 0.9999898700090192,\n",
       " 0.9999924954984029,\n",
       " 0.9999944405176665,\n",
       " 0.999995881428255,\n",
       " 0.9999969488837513,\n",
       " 0.999997739675702,\n",
       " 0.9999983255095944,\n",
       " 0.9999987595064589,\n",
       " 0.9999990810194866,\n",
       " 0.9999993192023292,\n",
       " 0.9999994956525918,\n",
       " 0.9999996263702017,\n",
       " 0.9999997232082107,\n",
       " 0.9999997949475846,\n",
       " 0.9999998480934262,\n",
       " 0.9999998874648379,\n",
       " 0.999999916631899,\n",
       " 0.9999999382393905,\n",
       " 0.9999999542466144,\n",
       " 0.9999999661050578,\n",
       " 0.999999974890009,\n",
       " 0.999999981398061,\n",
       " 0.9999999862193447,\n",
       " 0.9999999897910393,\n",
       " 0.9999999924370161,\n",
       " 0.9999999943972036,\n",
       " 0.9999999958493464,\n",
       " 0.9999999969251201,\n",
       " 0.999999997722073]"
      ]
     },
     "execution_count": 4,
     "metadata": {},
     "output_type": "execute_result"
    }
   ],
   "source": [
    "sigmoidPlot = sigmoidFunction(randomNumber)\n",
    "sigmoidPlot"
   ]
  },
  {
   "cell_type": "code",
   "execution_count": 7,
   "metadata": {},
   "outputs": [
    {
     "data": {
      "image/png": "[encoded data removed]",
      "text/plain": [
       "<Figure size 432x288 with 1 Axes>"
      ]
     },
     "metadata": {
      "needs_background": "light"
     },
     "output_type": "display_data"
    }
   ],
   "source": [
    "plt.plot(randomNumber, sigmoidPlot)\n",
    "\n",
    "# axis\n",
    "ax =plt.gca()\n",
    "plt.show()"
   ]
  },
  {
   "cell_type": "code",
   "execution_count": null,
   "metadata": {},
   "outputs": [],
   "source": []
  },
  {
   "cell_type": "code",
   "execution_count": null,
   "metadata": {},
   "outputs": [],
   "source": []
  }
 ],
 "metadata": {
  "kernelspec": {
   "display_name": "Python 3",
   "language": "python",
   "name": "python3"
  },
  "language_info": {
   "codemirror_mode": {
    "name": "ipython",
    "version": 3
   },
   "file_extension": ".py",
   "mimetype": "text/x-python",
   "name": "python",
   "nbconvert_exporter": "python",
   "pygments_lexer": "ipython3",
   "version": "3.8.5"
  }
 },
 "nbformat": 4,
 "nbformat_minor": 4
}
